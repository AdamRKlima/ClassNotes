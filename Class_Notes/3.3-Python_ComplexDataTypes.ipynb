{
 "cells": [
  {
   "cell_type": "markdown",
   "metadata": {
    "slideshow": {
     "slide_type": "slide"
    }
   },
   "source": [
    "# Python Complex Data Types\n",
    "\n",
    "The OBJECTIVES of This Section: Learn about ...\n",
    "\n",
    "- Lists and List operations\n",
    "- Tuples\n",
    "- Sets\n",
    "- Dictionaries"
   ]
  },
  {
   "cell_type": "markdown",
   "metadata": {
    "slideshow": {
     "slide_type": "notes"
    }
   },
   "source": [
    "### NOTES\n",
    "There are 4 compound data types and data structures in Python. These are -- Lists, Tuples, Sets, and Dictionaries.\n",
    "\n",
    "Variables have so far only stored one value. Compound data structures are data types that can store a large number of values."
   ]
  },
  {
   "cell_type": "markdown",
   "metadata": {
    "slideshow": {
     "slide_type": "slide"
    }
   },
   "source": [
    "## Lists\n",
    "\n",
    "**A `List` is just a list of values separated by commas, and enclosed in square brackets `[ ]`.**\n",
    "\n",
    "- Lists always have a strict order BUT they can be modified\n",
    "- Lists can have any number of duplicate elements in the list\n",
    "- Lists can contain any data type\n",
    "- Lists written with square brackets `[]`"
   ]
  },
  {
   "cell_type": "markdown",
   "metadata": {
    "slideshow": {
     "slide_type": "notes"
    }
   },
   "source": [
    "### NOTES\n",
    "In Python, a list is an ordered sequence that can hold several object types such as integer, character, or float. In other programming languages, a list is equivalent to an array.\n",
    "- Lists are used for:\n",
    "    -   JSON\n",
    "    -   Useful for Array operations\n",
    "    -   Used in Databases"
   ]
  },
  {
   "cell_type": "markdown",
   "metadata": {
    "slideshow": {
     "slide_type": "slide"
    }
   },
   "source": [
    "![Python Lists](./images/python-list.jpg)"
   ]
  },
  {
   "cell_type": "markdown",
   "metadata": {
    "slideshow": {
     "slide_type": "notes"
    }
   },
   "source": [
    "### NOTES\n",
    "Here's an example of a list in Python."
   ]
  },
  {
   "cell_type": "code",
   "execution_count": null,
   "metadata": {
    "slideshow": {
     "slide_type": "slide"
    }
   },
   "outputs": [],
   "source": [
    "# List Example 1\n",
    "inputList = [\"hello\", \"class\", 1, 3.5, \"python\", [1,2,3,4,5], {\"helpfulStuff\" : \"documents\"}, False, \"end\" ]\n",
    "print(\"inputList ...\", inputList)"
   ]
  },
  {
   "cell_type": "code",
   "execution_count": 4,
   "metadata": {
    "slideshow": {
     "slide_type": "slide"
    }
   },
   "outputs": [
    {
     "name": "stdout",
     "output_type": "stream",
     "text": [
      "\n",
      "fruitList ... ['apple', 'banana', 'cherry']\n"
     ]
    }
   ],
   "source": [
    "# List Example 2\n",
    "fruitList = [\"apple\", \"banana\", \"cherry\"]\n",
    "print(\"\\nfruitList ...\", fruitList)"
   ]
  },
  {
   "cell_type": "code",
   "execution_count": 8,
   "metadata": {
    "slideshow": {
     "slide_type": "subslide"
    }
   },
   "outputs": [
    {
     "name": "stdout",
     "output_type": "stream",
     "text": [
      "List randomness in 5 4 3 2 1 .....  ['adam', 'blue', 55, [5, 2, 1, 4.6], 'end']\n",
      "List length is 5\n"
     ]
    }
   ],
   "source": [
    "# Try it out!\n",
    "# Create a list of 5-10 items, be creative! Print.\n",
    "mylist = ['adam', 'blue', 55, [5, 2, 1, 4.6], \"end\"]\n",
    "listlength = len(mylist)\n",
    "print (\"List randomness in 5 4 3 2 1 ..... \", mylist)\n",
    "print (\"List length is\", listlength)"
   ]
  },
  {
   "cell_type": "markdown",
   "metadata": {
    "slideshow": {
     "slide_type": "slide"
    }
   },
   "source": [
    "### Operations on List\n",
    "\n",
    "- getting the length\n",
    "- accessing elements by index\n",
    "- extending and changing lists\n",
    "- adding and repeating lists\n",
    "- sorting lists\n",
    "- copy, clear and delete lists"
   ]
  },
  {
   "cell_type": "markdown",
   "metadata": {
    "slideshow": {
     "slide_type": "notes"
    }
   },
   "source": [
    "### NOTES\n",
    "There are numerous operations that can be performed on lists"
   ]
  },
  {
   "cell_type": "markdown",
   "metadata": {
    "slideshow": {
     "slide_type": "slide"
    }
   },
   "source": [
    "#### **1.) Getting the size of the list using the `len()` function**"
   ]
  },
  {
   "cell_type": "markdown",
   "metadata": {
    "slideshow": {
     "slide_type": "notes"
    }
   },
   "source": [
    "### NOTES\n",
    "- The `len()` function returns the number of items in a list, when the object is a list"
   ]
  },
  {
   "cell_type": "code",
   "execution_count": 6,
   "metadata": {
    "slideshow": {
     "slide_type": "slide"
    }
   },
   "outputs": [
    {
     "name": "stdout",
     "output_type": "stream",
     "text": [
      "Size of thea List =  5\n"
     ]
    }
   ],
   "source": [
    "# input list\n",
    "lst = [\"Hello\", \"TutorialsPoint\", 78, \"Hi\", \"Everyone\"]\n",
    "\n",
    "# getting list length\n",
    "listLength = len(lst)\n",
    "\n",
    "# Printing the size of a list\n",
    "print(\"Size of thea List = \", listLength)"
   ]
  },
  {
   "cell_type": "code",
   "execution_count": 9,
   "metadata": {
    "slideshow": {
     "slide_type": "subslide"
    }
   },
   "outputs": [
    {
     "name": "stdout",
     "output_type": "stream",
     "text": [
      "List length is 5\n"
     ]
    }
   ],
   "source": [
    "# Try it out!\n",
    "# Print the length of the list you created in the previous exercise.\n",
    "mylist = ['adam', 'blue', 55, [5, 2, 1, 4.6], \"end\"]\n",
    "listlength = len(mylist)\n",
    "# print (\"List randomness in 5 4 3 2 1 ..... \", mylist)\n",
    "print (\"List length is\", listlength)"
   ]
  },
  {
   "cell_type": "markdown",
   "metadata": {
    "slideshow": {
     "slide_type": "slide"
    }
   },
   "source": [
    "#### **2.) Accessing List Elements Using `Indexing`**\n",
    "\n",
    "- The term \"indexing\" refers to an element of an iterable, based on its position inside the iterable."
   ]
  },
  {
   "cell_type": "markdown",
   "metadata": {
    "slideshow": {
     "slide_type": "notes"
    }
   },
   "source": [
    "### NOTES\n",
    "- 0-based indexing The indexing begins from 0 -- the first element in a sequence is represented by index 0.\n",
    "- Negative indexing begins from -1 -- the last element in the sequence is represented by index -1."
   ]
  },
  {
   "cell_type": "code",
   "execution_count": 10,
   "metadata": {
    "slideshow": {
     "slide_type": "slide"
    }
   },
   "outputs": [
    {
     "name": "stdout",
     "output_type": "stream",
     "text": [
      "Element at index 2: 8\n",
      "last element of the input list: 2\n"
     ]
    }
   ],
   "source": [
    "# input list\n",
    "inputList = [1, 4, 8, 6, 2]\n",
    "\n",
    "# accessing the list element at index 2 using positive indexing\n",
    "print(\"Element at index 2:\", inputList[2])\n",
    "\n",
    "# accessing the last element in list using negative indexing\n",
    "print(\"last element of the input list:\", inputList[-1])"
   ]
  },
  {
   "cell_type": "code",
   "execution_count": 11,
   "metadata": {
    "slideshow": {
     "slide_type": "subslide"
    }
   },
   "outputs": [
    {
     "name": "stdout",
     "output_type": "stream",
     "text": [
      "List index 3 is [5, 2, 1, 4.6] and index -2 is [5, 2, 1, 4.6]\n",
      "List length is 5\n"
     ]
    }
   ],
   "source": [
    "# Try it out!\n",
    "# Building off the previous exercise, access the list element at index 3 using positive indexing, and the 2nd-to-last element using negative indexing. Print the values.\n",
    "mylist = ['adam', 'blue', 55, [5, 2, 1, 4.6], \"end\"]\n",
    "listlength = len(mylist)\n",
    "print ('List index 3 is', mylist[3], \"and index -2 is\", mylist[-2])\n",
    "print (\"List length is\", listlength)"
   ]
  },
  {
   "cell_type": "markdown",
   "metadata": {
    "slideshow": {
     "slide_type": "slide"
    }
   },
   "source": [
    "#### **3.) Extending and Changing to a List**\n",
    "\n",
    "- Replace items\n",
    "- Add items from another list with `.extend()`"
   ]
  },
  {
   "cell_type": "markdown",
   "metadata": {
    "slideshow": {
     "slide_type": "notes"
    }
   },
   "source": [
    "### NOTES\n",
    "- Using indexing, a range of elements can be changed or removed from a List"
   ]
  },
  {
   "cell_type": "code",
   "execution_count": 12,
   "metadata": {
    "slideshow": {
     "slide_type": "slide"
    }
   },
   "outputs": [
    {
     "name": "stdout",
     "output_type": "stream",
     "text": [
      "fruitList length =  3\n",
      "\n",
      "Second fruit ...  banana\n",
      "2nd fruit replaced ...  ['apple', 'grapefruit', 'cherry']\n"
     ]
    }
   ],
   "source": [
    "# Remember fruitList? What is the length?\n",
    "fruitList = [\"apple\", \"banana\", \"cherry\"]\n",
    "print(\"fruitList length = \", len(fruitList))\n",
    "\n",
    "# find the 2nd element of the fruitList\n",
    "print(\"\\nSecond fruit ... \", fruitList[1])\n",
    "\n",
    "# replace the 2nd element in the list\n",
    "fruitList[1] = \"grapefruit\"\n",
    "print(\"2nd fruit replaced ... \", fruitList)"
   ]
  },
  {
   "cell_type": "code",
   "execution_count": 13,
   "metadata": {
    "slideshow": {
     "slide_type": "slide"
    }
   },
   "outputs": [
    {
     "name": "stdout",
     "output_type": "stream",
     "text": [
      " replaced [1:3] ...  ['apple', 'blackberry', 'watermelon']\n"
     ]
    }
   ],
   "source": [
    "# replace a range of elements \n",
    "# from index #1 to index #3 (not including #3)\n",
    "fruitList = [\"apple\", \"grapefruit\", \"cherry\"]\n",
    "fruitList[1:3] = [\"blackberry\", \"watermelon\"]\n",
    "print(\" replaced [1:3] ... \", fruitList)"
   ]
  },
  {
   "cell_type": "code",
   "execution_count": 14,
   "metadata": {
    "slideshow": {
     "slide_type": "slide"
    }
   },
   "outputs": [
    {
     "name": "stdout",
     "output_type": "stream",
     "text": [
      "New list ...  ['apple', 'grapefruit', 'cherry', 'orange']\n"
     ]
    }
   ],
   "source": [
    "# 'APPEND' an element at the end of the list\n",
    "fruitList = [\"apple\", \"grapefruit\", \"cherry\"]\n",
    "fruitList.append(\"orange\")\n",
    "print(\"New list ... \", fruitList)"
   ]
  },
  {
   "cell_type": "code",
   "execution_count": null,
   "metadata": {
    "slideshow": {
     "slide_type": "slide"
    }
   },
   "outputs": [],
   "source": [
    "# 'EXTEND' one list with another\n",
    "firstList = [\"apple\", \"banana\", \"cherry\"]\n",
    "secondList = [\"mango\", \"pineapple\", \"papaya\"]\n",
    "\n",
    "firstList.extend(secondList)\n",
    "print(\"Extended firstList ... \", firstList)"
   ]
  },
  {
   "cell_type": "code",
   "execution_count": 20,
   "metadata": {
    "slideshow": {
     "slide_type": "subslide"
    }
   },
   "outputs": [
    {
     "name": "stdout",
     "output_type": "stream",
     "text": [
      "['adam', 'blue', 'what', [5, 2, 1, 4.6], 'end']\n",
      "['adam', 'blue', 'what', 'orange', 'donkey']\n",
      "['adam', 'blue', 'what', 'orange', 'donkey', 'monkey']\n",
      "['adam', 'blue', 'what', 'orange', 'donkey', 'monkey', 'snake', 'drink', 'sleep']\n"
     ]
    }
   ],
   "source": [
    "# Try it out!\n",
    "# Modify the list your created previously by doing the following:\n",
    "# 1. Replace an element in the list. Print.\n",
    "# 2. Replace consecutive elements in the list. Print.\n",
    "# 3. Append new items to the list. Print.\n",
    "# 4. Extend the list with another list. Print.\n",
    "mylist = ['adam', 'blue', 55, [5, 2, 1, 4.6], \"end\"]\n",
    "mylist[2] = \"what\"\n",
    "print(mylist)\n",
    "mylist[3:6] = ['orange', 'donkey']\n",
    "print (mylist)\n",
    "mylist.append('monkey')\n",
    "print (mylist)\n",
    "newlist = ['snake', 'drink', 'sleep']\n",
    "mylist.extend(newlist)\n",
    "print (mylist)"
   ]
  },
  {
   "cell_type": "markdown",
   "metadata": {
    "slideshow": {
     "slide_type": "slide"
    }
   },
   "source": [
    "#### **4.) Repetition(`*`) and Addition(`+`) operations on List Items**\n",
    "\n",
    "- Python List includes the `*` and the `+` operators, which allow for creating a new list with more elements.\n"
   ]
  },
  {
   "cell_type": "code",
   "execution_count": 21,
   "metadata": {
    "slideshow": {
     "slide_type": "slide"
    }
   },
   "outputs": [
    {
     "name": "stdout",
     "output_type": "stream",
     "text": [
      "New added list ... ['apple', 'banana', 'cherry', 'kiwi', 'strawberry', 'grape']\n",
      "\n",
      "Multiplied list ...  [5, 6, 7, 5, 6, 7, 5, 6, 7]\n"
     ]
    }
   ],
   "source": [
    "# add 2 lists together with the addition (+) sign\n",
    "list1 = [\"apple\", \"banana\", \"cherry\"]\n",
    "list2 = [\"kiwi\", \"strawberry\", \"grape\"]\n",
    "list3 = list1 + list2\n",
    "print(\"New added list ...\", list3)\n",
    "\n",
    "# repeat a list for a number of times (*)\n",
    "inputList = [5, 6, 7]\n",
    "# Repeating the input list 3 times using the * operator\n",
    "multipliedList = inputList * 3\n",
    "print(\"\\nMultiplied list ... \", multipliedList)\n"
   ]
  },
  {
   "cell_type": "code",
   "execution_count": 23,
   "metadata": {
    "slideshow": {
     "slide_type": "subslide"
    }
   },
   "outputs": [
    {
     "name": "stdout",
     "output_type": "stream",
     "text": [
      "['a', 'b', 'dog', 2, 3, 'no', 'yes', 'yes no']\n",
      "\n",
      "Multiplied list ...  ['a', 'b', 'dog', 2, 3, 'no', 'yes', 'yes no', 'a', 'b', 'dog', 2, 3, 'no', 'yes', 'yes no', 'a', 'b', 'dog', 2, 3, 'no', 'yes', 'yes no']\n"
     ]
    }
   ],
   "source": [
    "# Try it out!\n",
    "# 1. Create 2 new lists. Print.\n",
    "# 2. Add them together. Print.\n",
    "# 3. Repeat the list 3 times by multiplying. Print.\n",
    "list1 = ['a', 'b', 'dog', 2, 3]\n",
    "list2 = ['no', 'yes', 'yes no']\n",
    "list3 = list1 +list2\n",
    "print (list3)\n",
    "multipliedList = list3 * 3\n",
    "print(\"\\nMultiplied list ... \", multipliedList)\n"
   ]
  },
  {
   "cell_type": "markdown",
   "metadata": {
    "slideshow": {
     "slide_type": "slide"
    }
   },
   "source": [
    "#### **5.) Sorting Lists in different ways**\n",
    "\n",
    "The `.sort()` method sorts the list ascending by default.\n",
    "- Syntax:\n",
    "\n",
    "        list.sort(reverse=True|False, key=myFunc)"
   ]
  },
  {
   "cell_type": "markdown",
   "metadata": {
    "slideshow": {
     "slide_type": "notes"
    }
   },
   "source": [
    "### NOTES\n",
    "- reverse is Optional. '`reverse=True`' will sort the list descending. Default is `reverse=False`\n",
    "- key is Optional. '`key=`' assigns a function to specify the sorting criteria\n",
    "\n",
    "> IMPORTANT: In Python 3 the  List `.sort()` method no longer sorts lists of mixed data types. **To use `list.sort()`, the data-type in the list needs to be of the same type**."
   ]
  },
  {
   "cell_type": "code",
   "execution_count": 24,
   "metadata": {
    "slideshow": {
     "slide_type": "slide"
    }
   },
   "outputs": [
    {
     "name": "stdout",
     "output_type": "stream",
     "text": [
      "Sorted cars in reverse -  ['Volvo', 'Ford', 'BMW']\n"
     ]
    }
   ],
   "source": [
    "# 'sort' a list descending\n",
    "cars = ['Ford', 'BMW', 'Volvo']\n",
    "cars.sort(reverse=True)\n",
    "print(\"Sorted cars in reverse - \", cars)"
   ]
  },
  {
   "cell_type": "code",
   "execution_count": 25,
   "metadata": {
    "slideshow": {
     "slide_type": "slide"
    }
   },
   "outputs": [
    {
     "name": "stdout",
     "output_type": "stream",
     "text": [
      "Sorted cars - default  ['BMW', 'Ford', 'Volvo']\n"
     ]
    }
   ],
   "source": [
    "# 'sort' ascending\n",
    "cars = ['Ford', 'BMW', 'Volvo']\n",
    "cars.sort()\n",
    "print(\"Sorted cars - default \", cars)"
   ]
  },
  {
   "cell_type": "code",
   "execution_count": 26,
   "metadata": {
    "slideshow": {
     "slide_type": "slide"
    }
   },
   "outputs": [
    {
     "name": "stdout",
     "output_type": "stream",
     "text": [
      "['VW', 'BMW', 'Ford', 'Mitsubishi']\n"
     ]
    }
   ],
   "source": [
    "# Sort a list using a 'key'\n",
    "#   EG: sort by the length of the values in the list:\n",
    "cars = ['Ford', 'Mitsubishi', 'BMW', 'VW']\n",
    "\n",
    "# Define a function that returns the length of the values in the List:\n",
    "def myFunc(e):\n",
    "    return len(e)\n",
    "\n",
    "cars.sort(key=myFunc)\n",
    "print(cars)"
   ]
  },
  {
   "cell_type": "code",
   "execution_count": 29,
   "metadata": {
    "slideshow": {
     "slide_type": "subslide"
    }
   },
   "outputs": [
    {
     "name": "stdout",
     "output_type": "stream",
     "text": [
      "['George', 'Franklin', 'Anthony', 'Adam']\n"
     ]
    }
   ],
   "source": [
    "# Try it out!\n",
    "# Given the following function that returns the length of the values in the List:\n",
    "# def calculate_length(e):\n",
    "#     return len(e)\n",
    "\n",
    "# 1. Create a new list of words\n",
    "# 2. Sort them by length in descending order with the sort() function\n",
    "list5 = ['Adam', 'George', \"Franklin\", 'Anthony']\n",
    "\n",
    "def myFunc(e):\n",
    "    return len(e)\n",
    "\n",
    "list5.sort(key=myFunc)\n",
    "list5.sort(reverse=True)\n",
    "print (list5)\n"
   ]
  },
  {
   "cell_type": "markdown",
   "metadata": {
    "slideshow": {
     "slide_type": "slide"
    }
   },
   "source": [
    "#### **6.) Copying Lists**\n",
    "\n",
    "- One could use the `\"=\"` operator to \"copy\" a list by assigning the 'old_list' to a 'new_list'"
   ]
  },
  {
   "cell_type": "markdown",
   "metadata": {
    "slideshow": {
     "slide_type": "notes"
    }
   },
   "source": [
    "### NOTES\n",
    "-   However, there is a problem \"copying\" lists in this way: using the '`=`' (assignment operator) in Python **does Not copy objects**, it just creates a binding between the target (new_list) and the original object (old_list)\n",
    "-   When modifying 'new_list', the 'old_list' is also modified because of this binding\n",
    "-   This is because the 'new_list' is **referencing or pointing** to the same 'old_list' object location/address in system memory"
   ]
  },
  {
   "cell_type": "markdown",
   "metadata": {
    "slideshow": {
     "slide_type": "slide"
    }
   },
   "source": [
    "#### **6.) Copying Lists**\n",
    "- The `.copy()` method is a better, but Not Perfect option. It returns a shallow copy of the list; `.copy()` returns a new list, and it doesn't modify the original list."
   ]
  },
  {
   "cell_type": "markdown",
   "metadata": {
    "slideshow": {
     "slide_type": "notes"
    }
   },
   "source": [
    "### NOTES\n",
    "-   A shallow copy constructs a new compound object, and then (to the extent possible) inserts references into the copy to the objects found in the original object.\n",
    "-   This could still lead to a situation where some changes to embedded compound objects inside the 'old_list' object, could be affected by changes to the embedded compound objects in the 'new_list' object"
   ]
  },
  {
   "cell_type": "markdown",
   "metadata": {
    "slideshow": {
     "slide_type": "slide"
    }
   },
   "source": [
    "#### **6.) Copying Lists**\n",
    "- The `deepcopy()` method is the safest option for making true, independent copies of compound List objects."
   ]
  },
  {
   "cell_type": "markdown",
   "metadata": {
    "slideshow": {
     "slide_type": "notes"
    }
   },
   "source": [
    "### NOTES\n",
    "-   In order to make these deep copies, we use the `copy` module.\n",
    "-   For collections that are mutable, or contain mutable items, a true copy is often needed so one can change one copy without changing the other\n",
    "-   The difference between shallow and deep copying is only relevant for compound objects (objects that contain other objects, like lists or class instances)\n",
    "-   A deep copy constructs a new compound object and then, recursively, inserts copies into it of the objects found in the original object.\n",
    "    "
   ]
  },
  {
   "cell_type": "code",
   "execution_count": 30,
   "metadata": {
    "slideshow": {
     "slide_type": "slide"
    }
   },
   "outputs": [
    {
     "name": "stdout",
     "output_type": "stream",
     "text": [
      "New List: [1, 2, 3, 8]\n",
      "Old List: [1, 2, 3, 8]\n"
     ]
    }
   ],
   "source": [
    "# Issues with copying a list through ASSIGNMENT \"=\"\n",
    "old_list = [1, 2, 3]\n",
    "other_list = [1, 2, 3]\n",
    "\n",
    "# copy list using '='\n",
    "new_list = old_list\n",
    "\n",
    "# add an element to new_list\n",
    "new_list.append(8)\n",
    "\n",
    "# both lists reference the same location in memory\n",
    "print('New List:', new_list)\n",
    "print('Old List:', old_list)\n"
   ]
  },
  {
   "cell_type": "code",
   "execution_count": 31,
   "metadata": {
    "slideshow": {
     "slide_type": "slide"
    }
   },
   "outputs": [
    {
     "name": "stdout",
     "output_type": "stream",
     "text": [
      "Copied List: ['cat', 0, 6.7]\n"
     ]
    }
   ],
   "source": [
    "# 'COPY' a list using .copy()\n",
    "first_list = ['cat', 0, 6.7]\n",
    "\n",
    "new_list = first_list.copy()\n",
    "print('Copied List:', new_list)\n"
   ]
  },
  {
   "cell_type": "code",
   "execution_count": 32,
   "metadata": {
    "slideshow": {
     "slide_type": "slide"
    }
   },
   "outputs": [
    {
     "name": "stdout",
     "output_type": "stream",
     "text": [
      "The original elements before deep copying\n",
      "1 2 [3, 5] 4 \n",
      "\n",
      "The new list of elements after deep copy and edit\n",
      "1 2 [3, 5, 7] 4 \n",
      "\n",
      "The original elements after deep copy and edit\n",
      "1 2 [3, 5] 4 "
     ]
    }
   ],
   "source": [
    "# 'COPY' a list using .deepcopy()\n",
    "# importing \"copy\" for copy operations\n",
    "import copy\n",
    "\n",
    "list1 = [1, 2, [3,5], 4]\n",
    "\n",
    "# using deepcopy to deep copy\n",
    "list2 = copy.deepcopy(list1)\n",
    "\n",
    "# original elements of list\n",
    "print (\"The original elements before deep copying\")\n",
    "for i in range(0,len(list1)):\n",
    "    print (list1[i],end=\" \")\n",
    "\n",
    "# adding and element to new list\n",
    "list2[2].append(7)\n",
    "\n",
    "# Change is reflected in list2\n",
    "print (\"\\n\\nThe new list of elements after deep copy and edit\")\n",
    "for i in range(0,len( list2)):\n",
    "    print (list2[i],end=\" \")\n",
    "\n",
    "# Change is NOT reflected in original list \n",
    "print (\"\\n\\nThe original elements after deep copy and edit\")\n",
    "for i in range(0,len( list1)):\n",
    "    print (list1[i],end=\" \")\n"
   ]
  },
  {
   "cell_type": "code",
   "execution_count": null,
   "metadata": {
    "slideshow": {
     "slide_type": "subslide"
    }
   },
   "outputs": [],
   "source": [
    "# Try it out!\n",
    "# 1. Create a new list with list(s) as items\n",
    "# 2. Make a deepcopy of the list.\n",
    "# 3. Modify the new list.\n",
    "# 4. Print the contents of the original list and the contents of the new list to compare.\n",
    "import copy\n",
    "\n",
    "listfun = ['Franklin', 'always', 5, 4.2]\n"
   ]
  },
  {
   "cell_type": "markdown",
   "metadata": {
    "slideshow": {
     "slide_type": "slide"
    }
   },
   "source": [
    "#### **7.) Clear and Delete lists**\n",
    "\n",
    "- `clear()`\n",
    "- `pop()`\n",
    "- `remove()`\n",
    "- `del` statement"
   ]
  },
  {
   "cell_type": "markdown",
   "metadata": {
    "slideshow": {
     "slide_type": "notes"
    }
   },
   "source": [
    "### NOTES\n",
    "- - `clear()` removes all elements from list\n",
    "- `pop()` deletes item at specified index (else deletes last item in list), and returns it as well (popped = some_list.pop(3))\n",
    "- `remove()` is similar to pop in that it removes the item from the list, but does NOT return the deleted item.\n",
    "- `del` is similar to `remove()` but it's not a subfunction of lists, but rather a standalone method. Ex: `del some_list[2]` will remove the item at index 2 of some_list"
   ]
  },
  {
   "cell_type": "code",
   "execution_count": 34,
   "metadata": {
    "slideshow": {
     "slide_type": "slide"
    }
   },
   "outputs": [
    {
     "name": "stdout",
     "output_type": "stream",
     "text": [
      "List after clear(): []\n"
     ]
    }
   ],
   "source": [
    "# The .clear() method removes all items from a list.\n",
    "prime_numbers = [2, 3, 5, 7, 9, 11]\n",
    "\n",
    "# remove all list elements\n",
    "prime_numbers.clear()\n",
    "\n",
    "# Updated prime_numbers List\n",
    "print('List after clear():', prime_numbers)\n"
   ]
  },
  {
   "cell_type": "code",
   "execution_count": 35,
   "metadata": {
    "slideshow": {
     "slide_type": "slide"
    }
   },
   "outputs": [
    {
     "name": "stdout",
     "output_type": "stream",
     "text": [
      "superFruitList =  ['apple', 'Starfruit', 'cherry', 'Passion fruit', 'mango', 'pineapple', 'papaya']\n",
      "\n",
      "superFruitList #1 popped =  ['apple', 'cherry', 'Passion fruit', 'mango', 'pineapple', 'papaya']\n",
      "\n",
      "superFruitList last popped =  ['apple', 'cherry', 'Passion fruit', 'mango', 'pineapple']\n"
     ]
    }
   ],
   "source": [
    "# eliminating list items\n",
    "superFruitList = [\"apple\", \"Starfruit\", \"banana\", \"cherry\", \n",
    "                    \"Passion fruit\", \"mango\", \"pineapple\", \"papaya\"]\n",
    "\n",
    "# 'REMOVE' an element from the list\n",
    "superFruitList.remove(\"banana\")\n",
    "print(\"superFruitList = \", superFruitList)\n",
    "\n",
    "# 'POP' off an element at index #1\n",
    "superFruitList.pop(1)\n",
    "print(\"\\nsuperFruitList #1 popped = \", superFruitList)\n",
    "\n",
    "# 'POP' the last element with pop()\n",
    "superFruitList.pop()\n",
    "print(\"\\nsuperFruitList last popped = \", superFruitList)\n"
   ]
  },
  {
   "cell_type": "code",
   "execution_count": 33,
   "metadata": {
    "slideshow": {
     "slide_type": "slide"
    }
   },
   "outputs": [
    {
     "name": "stdout",
     "output_type": "stream",
     "text": [
      "[0, 10, 20, 40, 50]\n",
      "[0, 10, 20, 50]\n"
     ]
    },
    {
     "ename": "NameError",
     "evalue": "name 'list_l' is not defined",
     "output_type": "error",
     "traceback": [
      "\u001b[1;31m---------------------------------------------------------------------------\u001b[0m",
      "\u001b[1;31mNameError\u001b[0m                                 Traceback (most recent call last)",
      "Cell \u001b[1;32mIn[33], line 12\u001b[0m\n\u001b[0;32m     10\u001b[0m \u001b[39m# completely delete a list\u001b[39;00m\n\u001b[0;32m     11\u001b[0m \u001b[39mdel\u001b[39;00m list_l\n\u001b[1;32m---> 12\u001b[0m \u001b[39mprint\u001b[39m(list_l)\n",
      "\u001b[1;31mNameError\u001b[0m: name 'list_l' is not defined"
     ]
    }
   ],
   "source": [
    "# Remove items by index or slice using 'DEL'\n",
    "list_l = [0, 10, 20, 30, 40, 50]\n",
    "\n",
    "del list_l[3]\n",
    "print(list_l)\n",
    "\n",
    "del list_l[-2]\n",
    "print(list_l)\n",
    "\n",
    "# completely delete a list\n",
    "del list_l\n",
    "print(list_l)\n"
   ]
  },
  {
   "cell_type": "code",
   "execution_count": null,
   "metadata": {
    "slideshow": {
     "slide_type": "subslide"
    }
   },
   "outputs": [],
   "source": [
    "# Try it out!\n",
    "# 1. Create a list of 5-10 items. Print.\n",
    "# 2. Remove at least 3 items, using each of the methods to remove items from a list (pop/remove/del). Print.\n",
    "# 3. Clear the list. Print."
   ]
  },
  {
   "cell_type": "markdown",
   "metadata": {
    "slideshow": {
     "slide_type": "slide"
    }
   },
   "source": [
    "### Summary of Python3 List Methods\n",
    "\n",
    "![Python3 List Methods](./images/python-list-methods.jpg)\n",
    "\n",
    "> Read more about Python List methods at [W3Schools List Methods](https://www.w3schools.com/python/python_ref_list.asp)"
   ]
  },
  {
   "cell_type": "markdown",
   "metadata": {
    "slideshow": {
     "slide_type": "slide"
    }
   },
   "source": [
    "## Tuples\n",
    "In Python, **a `Tuple` is just a list of values ...**\n",
    "\n",
    "- Tuples store multiple, comma-separated items, of any mixed data type, in a single variable\n",
    "- **ordered**, **unchangeable**, and **allow duplicate values**\n",
    "- Single-item Tuple: `tupSingle = (50,)`"
   ]
  },
  {
   "cell_type": "markdown",
   "metadata": {
    "slideshow": {
     "slide_type": "notes"
    }
   },
   "source": [
    "### NOTES\n",
    "In Python, **a `Tuple` is just a list of values ...**\n",
    "\n",
    "- Tuples store multiple, comma-separated items, of any mixed data type, in a single variable\n",
    "- Mostly written with round brackets `()`\n",
    "- Tuple items are **ordered**, **unchangeable**, and **allow duplicate values**\n",
    "- **Ordered:** It means that the items have a defined indexed order, and that order will not change. The first item has index [0], the second item has index [1] etc.\n",
    "- **Unchangeable:** Tuples are unchangeable, meaning that we cannot change, add or remove items after the tuple has been created (there are workarounds but that’s for a later time).\n",
    "- **Allow Duplicates:** Since tuples are indexed, they can have items with the same value.\n",
    "- To create a tuple with only one item, you must add a comma after the item, otherwise Python will not recognize it as a tuple -- `tupSingle = (50,)`\n",
    "- Tuples have a `.len()` method -- among others -- and items are indexed\n",
    "- Tuples respond to all the general sequencing operations used on strings\n",
    "- Assigning values to a Tuple is known as \"packing\" a tuple\n",
    "- Tuples are used for:\n",
    "    -   Used to insert records in the database through SQL query at a time. Ex: (’estevan’, 34), (’geek’, 35)"
   ]
  },
  {
   "cell_type": "markdown",
   "metadata": {
    "slideshow": {
     "slide_type": "slide"
    }
   },
   "source": [
    "![Python Tuples](./images/tuples_in_python.png)"
   ]
  },
  {
   "cell_type": "code",
   "execution_count": null,
   "metadata": {
    "slideshow": {
     "slide_type": "slide"
    }
   },
   "outputs": [],
   "source": [
    "# Create a Tuple by defining comma-separated values\n",
    "# Optionally place these comma-separated values between parentheses\n",
    "\n",
    "tup1 = 'physics', 'chemistry', 1997, 2000\n",
    "tup2 = (1, 2, 3, 4, 5)\n",
    "tup3 = \"a\", \"b\", \"c\", \"d\"\n",
    "print(tup1, tup2, tup3)"
   ]
  },
  {
   "cell_type": "code",
   "execution_count": null,
   "metadata": {
    "slideshow": {
     "slide_type": "slide"
    }
   },
   "outputs": [],
   "source": [
    "# The empty tuple is written as two parentheses containing nothing\n",
    "tup4 = ()\n",
    "print(\"\\nempty tuple ... \", tup4)"
   ]
  },
  {
   "cell_type": "code",
   "execution_count": null,
   "metadata": {
    "slideshow": {
     "slide_type": "slide"
    }
   },
   "outputs": [],
   "source": [
    "# create a single value tuple by including a comma\n",
    "#   even though there is only one value\n",
    "tup5 = (50,)\n",
    "print(\"single value tuple ...\", tup5)"
   ]
  },
  {
   "cell_type": "code",
   "execution_count": null,
   "metadata": {
    "slideshow": {
     "slide_type": "slide"
    }
   },
   "outputs": [],
   "source": [
    "# Packing a Tuple\n",
    "fruits = (\"apple\", \"banana\", \"cherry\")\n",
    "(green, yellow, red) = fruits\n",
    "\n",
    "print(\"\\nTuple packing ...\")\n",
    "print(\"green=\", green, \"yellow=\", yellow, \"red=\", red)"
   ]
  },
  {
   "cell_type": "code",
   "execution_count": null,
   "metadata": {
    "slideshow": {
     "slide_type": "slide"
    }
   },
   "outputs": [],
   "source": [
    "# Access Values in Tuples using Bracket Notation --\n",
    "#   square brackets along with the indexes\n",
    "#   same as with slicing characters in a string\n",
    "tup6 = ('physics', 'chemistry', 1997, 2000)\n",
    "print(\"\\ntup6[0] ... \", tup6[0])"
   ]
  },
  {
   "cell_type": "code",
   "execution_count": null,
   "metadata": {
    "slideshow": {
     "slide_type": "slide"
    }
   },
   "outputs": [],
   "source": [
    "tup7 = (1, 2, 3, 4, 5, 6, 7 )\n",
    "print(\"\\ntup7[1:5] ... \", tup7[1:5])"
   ]
  },
  {
   "cell_type": "code",
   "execution_count": null,
   "metadata": {
    "slideshow": {
     "slide_type": "slide"
    }
   },
   "outputs": [],
   "source": [
    "# count() - Returns the number of times a value occurs in a tuple\n",
    "thisTuple = (1, 3, 7, 8, 7, 5, 4, 6, 8, 5)\n",
    "x = thisTuple.count(5)\n",
    "print(\"element count ...\", x)"
   ]
  },
  {
   "cell_type": "code",
   "execution_count": null,
   "metadata": {
    "slideshow": {
     "slide_type": "slide"
    }
   },
   "outputs": [],
   "source": [
    "# index() searches for a value and returns the index of the value\n",
    "#   -- finds the first occurrence of the specified value only\n",
    "#   -- raises an exception if the value is not found\n",
    "thisTuple = (1, 3, 7, 8, 7, 5, 4, 6, 8, 5)\n",
    "x = thisTuple.index(8)\n",
    "print(\"element '8' 1st index\", x)\n",
    "y = thisTuple.index(9)\n",
    "print(\"element '9' 1st index\", y)"
   ]
  },
  {
   "cell_type": "code",
   "execution_count": null,
   "metadata": {
    "slideshow": {
     "slide_type": "slide"
    }
   },
   "outputs": [],
   "source": [
    "# Adding tuples\n",
    "tup8 = (12, 34.56)\n",
    "tup9 = ('abc', 'xyz')\n",
    "tup10 = tup8 + tup9\n",
    "print(\"tup10 ...\", tup10)"
   ]
  },
  {
   "cell_type": "code",
   "execution_count": null,
   "metadata": {
    "slideshow": {
     "slide_type": "slide"
    }
   },
   "outputs": [],
   "source": [
    "tup9 = ('abc', 'xyz')\n",
    "# multiplying tuples\n",
    "timesTuple = tup9 * 3\n",
    "print(\"timesTuple ...\", timesTuple)"
   ]
  },
  {
   "cell_type": "code",
   "execution_count": null,
   "metadata": {
    "slideshow": {
     "slide_type": "subslide"
    }
   },
   "outputs": [],
   "source": [
    "# Try it out!\n",
    "# Let's keep it simple since Tuples & Lists share similar functions.\n",
    "# 1. Create a single-item tuple\n",
    "# 2. Create a multi-item tuple\n",
    "# 3. Combine the 2 tuples. Print."
   ]
  },
  {
   "cell_type": "markdown",
   "metadata": {
    "slideshow": {
     "slide_type": "slide"
    }
   },
   "source": [
    "### Built-in Tuple Functions\n",
    "\n",
    "![Python Tuple Functions](./images/Python_Tuple_Functions.png)"
   ]
  },
  {
   "cell_type": "markdown",
   "metadata": {
    "slideshow": {
     "slide_type": "notes"
    }
   },
   "source": [
    "### NOTES\n",
    "- **len(tuple)** -- Gives the total length of the tuple\n",
    "- **max(tuple)** -- Returns item from the tuple with max value\n",
    "- **min(tuple)** -- Returns item from the tuple with min value\n",
    "- **sum(tuple)** -- Returns the sum of the tuple items\n",
    "\n",
    "- **any(tuple)** -- Returns True if even one item in the tuple has a Boolean value of True, else it returns False\n",
    "- **all(tuple)** -- Unlike any(), all() returns True only if all items have a Boolean value of True. Otherwise, it returns False\n",
    "\n",
    "- **sorted(tuple)** -- returns a sorted version of the tuple; sorting is in ascending order, and it does Not modify the original tuple\n",
    "- **tuple(tuple)** -- This function converts an other constructs -- like lists, strings, and sets -- into a tuple"
   ]
  },
  {
   "cell_type": "code",
   "execution_count": null,
   "metadata": {
    "slideshow": {
     "slide_type": "slide"
    }
   },
   "outputs": [],
   "source": [
    "# Try it out!\n",
    "# Given the following tuples:\n",
    "tup11 = (1, 2, 3, 4, 5, 6, 7, 8)\n",
    "tup12 = (7, 2, 9, 12, 11, 3, 4)\n",
    "# 1. Print the length of tup11\n",
    "# 2. Print the min of tup11\n",
    "# 3. Print the max of tup12\n",
    "# 4. Print the sum of tup12"
   ]
  },
  {
   "cell_type": "code",
   "execution_count": null,
   "metadata": {
    "slideshow": {
     "slide_type": "slide"
    }
   },
   "outputs": [],
   "source": [
    "# Try it out!\n",
    "# 1. Sort the following tuple and print the result:\n",
    "tup13 = (7, 1, 5, 2, 3, 9, 4, 8, 12, 11, 3, 6, 4, 10, 2, 1, 5,13)\n",
    "\n",
    "# 2. Cast the following string as a tuple and print the result:\n",
    "string1 = \"this is a string\"\n",
    "\n",
    "# 3. Cast the following list as a tuple and print the result:\n",
    "list1 = ['maths', 'che', 'phy', 'bio']\n",
    "\n",
    "# 4a. Print the type of set1\n",
    "set1 = {'a', 'b', 'c', 'd', 'e'}\n",
    "\n",
    "# 4b. Cast set1 as a tuple and print the type of your new variable:"
   ]
  },
  {
   "cell_type": "code",
   "execution_count": null,
   "metadata": {
    "slideshow": {
     "slide_type": "slide"
    }
   },
   "outputs": [],
   "source": [
    "# Testing for Boolean values (truthy-ness / falsy-ness) in Tuples\n",
    "\n",
    "tup6 = ('physics', 'chemistry', 1997, 2000)\n",
    "print(\"any ...\", any(tup6))\n",
    "\n",
    "tup11 = (0, 1, 2, 3, 4, 5, 6, 7, 8)\n",
    "print(\"all ...\", all(tup11))\n"
   ]
  },
  {
   "cell_type": "markdown",
   "metadata": {
    "slideshow": {
     "slide_type": "notes"
    }
   },
   "source": [
    "### NOTES\n",
    "- Questions for the class:\n",
    "- why does `any(tup6)` evaluate to True?\n",
    "- why does `all(tup11)` evaluate to False?"
   ]
  },
  {
   "cell_type": "code",
   "execution_count": null,
   "metadata": {
    "slideshow": {
     "slide_type": "slide"
    }
   },
   "outputs": [],
   "source": [
    "# Changing Tuples ???\n",
    "tup = ('physics', 'chemistry', 1997, 2000)\n",
    "tup[0] = 100"
   ]
  },
  {
   "cell_type": "markdown",
   "metadata": {
    "slideshow": {
     "slide_type": "notes"
    }
   },
   "source": [
    "### NOTES\n",
    "- This is Not valid for tuples - can't re-assign an element in a Tuple"
   ]
  },
  {
   "cell_type": "code",
   "execution_count": null,
   "metadata": {
    "slideshow": {
     "slide_type": "slide"
    }
   },
   "outputs": [],
   "source": [
    "# Deleting a Tuple\n",
    "tup = ('physics', 'chemistry', 1997, 2000)\n",
    "print(tup)\n",
    "del tup\n",
    "print(\"After deleting tup : \")\n",
    "print(tup)"
   ]
  },
  {
   "cell_type": "markdown",
   "metadata": {
    "slideshow": {
     "slide_type": "slide"
    }
   },
   "source": [
    "## Sets\n",
    "- A `Set` is a unique collection which is **UNORDERED**, **UNCHANGEABLE** & **UN-INDEXED**"
   ]
  },
  {
   "cell_type": "markdown",
   "metadata": {
    "slideshow": {
     "slide_type": "notes"
    }
   },
   "source": [
    "### NOTES\n",
    "- In Python, **`Sets` are just a list of values ...**\n",
    "- Written in curly brackets `{}`\n",
    "- `Set` items can be of any data type\n",
    "- Set are used for:-\n",
    "    -   Finding unique elements\n",
    "    -   Join operations\n",
    "\n",
    "**Unordered**\n",
    "It means that the items in a `set` do not have a defined order. `Set` items can appear in a different order every time you use them, and cannot be referred to by index or key.\n",
    "\n",
    "**Unchangeable**\n",
    "`Set` items are unchangeable, meaning that we cannot change the items after the `set` has been created. Once a `set` is created, you cannot change its items, **BUT** _you can remove items and add new items._\n",
    "\n",
    "**Heterogeneous**\n",
    "One can use elements of any primitive data type together in a set.\n",
    "\n",
    "**Duplicates Not Allowed**\n",
    "`Sets` cannot have two items with the same value. Duplicates are ignored."
   ]
  },
  {
   "cell_type": "markdown",
   "metadata": {
    "slideshow": {
     "slide_type": "slide"
    }
   },
   "source": [
    "![Sets in Python](./images/python-sets.jpg)"
   ]
  },
  {
   "cell_type": "markdown",
   "metadata": {
    "slideshow": {
     "slide_type": "skip"
    }
   },
   "source": []
  },
  {
   "cell_type": "code",
   "execution_count": null,
   "metadata": {
    "slideshow": {
     "slide_type": "slide"
    }
   },
   "outputs": [],
   "source": [
    "#Basic Sets actions\n",
    "thisSet = {\"apple\", \"banana\", \"cherry\"}\n",
    "print(\"thisSet ... \", thisSet)\n",
    "\n",
    "# Duplicate values will be ignored:\n",
    "anotherSet = {\"apple\", \"banana\", \"cherry\", \"apple\"}\n",
    "print(\"anotherSet ... \", anotherSet)\n",
    "\n",
    "# Sets can be of any primitive data types - Integer, Float, String, Boolean.\n",
    "newSet = {\"abc\", 34, True, 40.2, \"male\"}"
   ]
  },
  {
   "cell_type": "markdown",
   "metadata": {
    "slideshow": {
     "slide_type": "slide"
    }
   },
   "source": [
    "### Some Python Set Methods ...\n",
    "\n",
    "| Method | Description |\n",
    "|----|----|\n",
    "| `add()` | Adds an element to the set |\n",
    "| `clear()` | Removes all the elements from the set |\n",
    "| `copy()` | Returns a copy of the set |\n",
    "| `difference()` | Returns a set containing the difference between two or more sets |\n",
    "| `discard()` | Remove the specified item |\n",
    "| `intersection()` | Returns a set, that is the intersection of two or more sets |\n",
    "| `issubset()` | Returns whether another set contains this set or not |\n",
    "| `issuperset()` | Returns whether this set contains another set or not |\n",
    "| `pop()` | Removes a random element from the set |\n",
    "| `remove()` | Removes the specified element |\n",
    "| `union()` | Return a set containing the union of sets |\n",
    "| `update()` | Update the set with another set, or any other iterable |"
   ]
  },
  {
   "cell_type": "markdown",
   "metadata": {
    "slideshow": {
     "slide_type": "notes"
    }
   },
   "source": [
    "### NOTES\n",
    "Set objects also support **mathematical operations** like union, intersection, difference, and symmetric difference.\n",
    "> Read more about the different Python Set methods here at [W3Schools - Python Set Methods](https://www.w3schools.com/python/python_ref_set.asp)"
   ]
  },
  {
   "cell_type": "code",
   "execution_count": null,
   "metadata": {
    "slideshow": {
     "slide_type": "slide"
    }
   },
   "outputs": [],
   "source": [
    "# 'ADD' some item\n",
    "thisSet = {\"apple\", \"banana\", \"cherry\", \"pawpaw\"}\n",
    "thisSet.add(\"orange\")\n",
    "print(\"thisSet ... \", thisSet)\n"
   ]
  },
  {
   "cell_type": "code",
   "execution_count": null,
   "metadata": {
    "slideshow": {
     "slide_type": "slide"
    }
   },
   "outputs": [],
   "source": [
    "# remove random item from a set with 'POP'\n",
    "thisSet = {\"apple\", \"banana\", \"cherry\", \"pawpaw\", \"orange\"}\n",
    "\n",
    "thisSet.pop()\n",
    "thisSet.remove(\"banana\")\n",
    "thisSet.discard(\"pawpaw\")\n",
    "\n",
    "print(\"reduced thisSet ... \", thisSet)\n"
   ]
  },
  {
   "cell_type": "markdown",
   "metadata": {
    "slideshow": {
     "slide_type": "notes"
    }
   },
   "source": [
    "### NOTES\n",
    "| `pop()` | Removes a random element from the set |\n",
    "| `remove()` | Removes the specified element |\n",
    "| `discard()` | Remove the specified item |"
   ]
  },
  {
   "cell_type": "code",
   "execution_count": null,
   "metadata": {
    "slideshow": {
     "slide_type": "slide"
    }
   },
   "outputs": [],
   "source": [
    "# 'UPDATE' a set with values from any other iterable\n",
    "thisSet1 = {\"apple\", \"banana\", \"cherry\"}\n",
    "myList = [\"a\", \"b\", \"c\"]\n",
    "myTuple = (\"1\", \"2\", \"3\")\n",
    "\n",
    "thisSet1.update(myList, myTuple)\n",
    "print(\"\\nupdated Set ... \", thisSet1)\n"
   ]
  },
  {
   "cell_type": "code",
   "execution_count": null,
   "metadata": {
    "slideshow": {
     "slide_type": "slide"
    }
   },
   "outputs": [],
   "source": [
    "# unite different sets together with 'UNION'\n",
    "thisSet2 = {\"mansion\", \"igloo\", \"tree_house\"}\n",
    "thisSet3 = {\"monkey\", \"guinea_pig\", \"puppy\"}\n",
    "\n",
    "thisSet4 = thisSet2.union(thisSet3)\n",
    "print(\"\\nUnited sets ...\\n\", thisSet4)\n"
   ]
  },
  {
   "cell_type": "code",
   "execution_count": null,
   "metadata": {
    "slideshow": {
     "slide_type": "slide"
    }
   },
   "outputs": [],
   "source": [
    "# more Sets methods\n",
    "thisSet2 = {\"mansion\", \"igloo\", \"tree_house\"}\n",
    "\n",
    "# make a true 'COPY' of a set \n",
    "copySet = thisSet2.copy()\n",
    "print(\"copied set ...\", copySet)\n",
    "\n",
    "# 'CLEAR' all elements from a set\n",
    "thisSet2.clear()\n",
    "print(\"cleared set ... \", thisSet2)\n"
   ]
  },
  {
   "cell_type": "markdown",
   "metadata": {
    "slideshow": {
     "slide_type": "slide"
    }
   },
   "source": [
    "## Dictionaries\n",
    "\n",
    "- A dictionary is a collection which is **ordered**, **changeable** and **does Not allow duplicates**"
   ]
  },
  {
   "cell_type": "markdown",
   "metadata": {
    "slideshow": {
     "slide_type": "notes"
    }
   },
   "source": [
    "### NOTES\n",
    "In Python, **`Dictionaries` are used to store data values in `{key:value}` pairs.**\n",
    "**Ordered**\n",
    "When we say that dictionaries are ordered, it means that the items have a defined order, and that order will not change\n",
    "\n",
    "**Changeable**\n",
    "Dictionaries are changeable, meaning that we can change, add or remove items after the dictionary has been created.\n",
    "\n",
    "**Duplicates Not Allowed**\n",
    "Dictionaries cannot have two items with the same `key`\n",
    "\n",
    "- Dictionary items are presented in `{key:value}` pairs, and can be referred to by using the `key` name\n",
    "- Written with curly brackets `{ }`\n",
    "- Key:Value pairs / elements separated by a comma\n",
    "\n",
    "- Dictionaries are used for:-\n",
    "    -   Used to create a data frame with lists\n",
    "    -   Used in JSON\n",
    "\n",
    "Restrictions on Dictionary Keys:\n",
    "Almost any type of value can be used as a dictionary key in Python. You can even use built-in objects like types and functions. However, there are a couple restrictions that dictionary keys must abide by.\n",
    "\n",
    "First, a given key can appear in a dictionary only once. Duplicate keys are not allowed. A dictionary maps each key to a corresponding value, so it doesn’t make sense to map a particular key more than once. If you specify a key a second time during the initial creation of a dictionary, then the second occurrence will override the first.\n",
    "\n",
    "Second, a dictionary key must be of a type that is immutable. For example, you can use an integer, float, string, or Boolean as a dictionary key. However, neither a list nor another dictionary can serve as a dictionary key, because lists and dictionaries are mutable. Values, on the other hand, can be any type and can be used more than once."
   ]
  },
  {
   "cell_type": "markdown",
   "metadata": {
    "slideshow": {
     "slide_type": "slide"
    }
   },
   "source": [
    "![Dictionaries in Python](./images/dictionaries-in-python.jpg)"
   ]
  },
  {
   "cell_type": "code",
   "execution_count": null,
   "metadata": {
    "slideshow": {
     "slide_type": "slide"
    }
   },
   "outputs": [],
   "source": [
    "# Duplicate values will overwrite existing values\n",
    "aDict = {\n",
    "    \"brand\": \"Ford\",\n",
    "    \"model\": \"Mustang\",\n",
    "    \"year\": 1964,\n",
    "    \"year\": 2020\n",
    "}\n",
    "print(\"aDict ... \", aDict)\n",
    "\n",
    "# The values in dictionary items can be of any data type: \n",
    "#   string, int, boolean, and lists\n",
    "thisDict = {\n",
    "    \"brand\": \"Ford\",\n",
    "    \"model\": \"Mustang\",\n",
    "    \"electric\": False,\n",
    "    \"year\": 1964,\n",
    "    \"weight\" : \"3049 lbs\",\n",
    "    \"hors_power\": 275,\n",
    "    \"cu-in_capacity\": 288.5,\n",
    "    \"colors\": [\"red\", \"white\", \"blue\"]\n",
    "}\n",
    "print(\"thisDict ...\", thisDict)\n",
    "\n",
    "# Print the data type of a dictionary:\n",
    "print(\"\\ntype of thisDict ... \", type(thisDict))\n"
   ]
  },
  {
   "cell_type": "markdown",
   "metadata": {
    "slideshow": {
     "slide_type": "slide"
    }
   },
   "source": [
    "### Some Python Dictionary Methods ...\n",
    "\n",
    "| Method | Description |\n",
    "|----|----|\n",
    "| `copy()` | Returns a copy of the dictionary |\n",
    "| `update()` | Updates the dictionary with the specified key-value pairs |\n",
    "| `get()` | Returns the value of the specified key |\n",
    "| `items()` | Returns a list containing a tuple for each key value pair |\n",
    "| `keys()` | Returns a list containing the dictionary's keys |\n",
    "| `values()` | Returns a list of all the values in the dictionary |\n",
    "| `pop()` | Removes the element with the specified key |\n",
    "| `popitem()` | Removes the last key-value pair in the dictionary |\n",
    "| `clear()` | Removes all the elements from the dictionary |\n",
    "\n"
   ]
  },
  {
   "cell_type": "code",
   "execution_count": null,
   "metadata": {
    "slideshow": {
     "slide_type": "slide"
    }
   },
   "outputs": [],
   "source": [
    "# Try it out!\n",
    "# 1. 'COPY' the car dictionary\n",
    "car = {\n",
    "    \"brand\": \"Ford\",\n",
    "    \"model\": \"Mustang\",\n",
    "    \"year\": 1964\n",
    "}\n",
    "\n",
    "# 2. Insert the following two items into the dictionary replica\n",
    "# a. {\"color\": \"White\"}\n",
    "# b. {\"seats\":2}\n",
    "\n",
    "# 3. Print the replica."
   ]
  },
  {
   "cell_type": "code",
   "execution_count": null,
   "metadata": {
    "slideshow": {
     "slide_type": "slide"
    }
   },
   "outputs": [],
   "source": [
    "# Try it out!\n",
    "# 1. 'GET' the value of the \"model\" item\n",
    "car = {\n",
    "    \"brand\": \"Ford\",\n",
    "    \"model\": \"Mustang\",\n",
    "    \"year\": 1964\n",
    "}\n",
    "\n",
    "# 2. Retrieve all the dictionary's key-value pairs with 'ITEMS'\n",
    "\n",
    "# 3. Retrieve all  the 'KEYS'\n",
    "\n",
    "# 4. Retrieve all the 'VALUES'"
   ]
  },
  {
   "cell_type": "code",
   "execution_count": null,
   "metadata": {
    "slideshow": {
     "slide_type": "slide"
    }
   },
   "outputs": [],
   "source": [
    "# Try it out!\n",
    "# 1. 'POP' the \"model\" key from the dictionary\n",
    "car = {\n",
    "    \"brand\": \"Ford\",\n",
    "    \"model\": \"Mustang\",\n",
    "    \"year\": 1964\n",
    "}\n",
    "\n",
    "# 2. Remove the last item from the dictionary with 'POPITEM'\n",
    "\n",
    "# 3. 'CLEAR' all elements from the car dictionary"
   ]
  },
  {
   "cell_type": "markdown",
   "metadata": {
    "slideshow": {
     "slide_type": "slide"
    }
   },
   "source": [
    "## Summary\n",
    "\n",
    "In this Section we learned about compound Python data collections / data types  ...\n",
    "- Lists and List operations\n",
    "- Tuples and build-in Tuple functions\n",
    "- Sets and some Set methods / functions\n",
    "- The power and importance of Dictionaries, dictionary methods and how to use Dictionaries"
   ]
  },
  {
   "cell_type": "markdown",
   "metadata": {
    "slideshow": {
     "slide_type": "slide"
    }
   },
   "source": [
    "![Python Lists Tuples Sets and Dictionaries](./images/ListsSetsTuplesDictionaries.jpeg)"
   ]
  },
  {
   "cell_type": "markdown",
   "metadata": {
    "slideshow": {
     "slide_type": "notes"
    }
   },
   "source": [
    "### NOTES\n",
    "\n",
    "> There are several different Python data types we did not look at.\n",
    "\n",
    "To learn more about the principal built-in Python data types -- numerics, sequences, mappings, classes, instances and exceptions -- consult the official Python 3 documentation on ... [Built-in Types](https://docs.python.org/3/library/stdtypes.html) at https://docs.python.org/3/library/stdtypes.html."
   ]
  }
 ],
 "metadata": {
  "celltoolbar": "Slideshow",
  "kernelspec": {
   "display_name": "Python 3 (ipykernel)",
   "language": "python",
   "name": "python3"
  },
  "language_info": {
   "codemirror_mode": {
    "name": "ipython",
    "version": 3
   },
   "file_extension": ".py",
   "mimetype": "text/x-python",
   "name": "python",
   "nbconvert_exporter": "python",
   "pygments_lexer": "ipython3",
   "version": "3.11.3"
  },
  "vscode": {
   "interpreter": {
    "hash": "369f2c481f4da34e4445cda3fffd2e751bd1c4d706f27375911949ba6bb62e1c"
   }
  }
 },
 "nbformat": 4,
 "nbformat_minor": 2
}

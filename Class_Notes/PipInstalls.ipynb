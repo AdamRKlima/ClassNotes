{
 "cells": [
  {
   "attachments": {},
   "cell_type": "markdown",
   "metadata": {},
   "source": [
    "# PIP Installs: Full Details and Installs Needed for the Cohort:\n",
    "\n",
    "### What is PIP?\n",
    "- PIP is used for installing Python features (e.g., modules, packages, libraries)\n",
    "- When using PIP to install Python features the syntax is sometimes a little different in Windows vs. Mac vs. Linux:\n",
    "    - **Windows**: `pip install...` or `python -m pip install...`\n",
    "    - **Mac**: `pip3 install...`\n",
    "    - **Linux**: `pip install...` (for Python2) or `pip3 install...` (for Python3)\n",
    "\n",
    "### Installing PIP:\n",
    "- Please refer to Section 00 for a full breakdown on how to install PIP on a Windows, Mac, or Linux\n",
    "- To verify PIP was installed:\n",
    "    - **Windows**: `py -m pip --version`\n",
    "    - **Mac**: `python3 -m pip --version`\n",
    "    - **Linux**: `command -v pip` or `command -v pip3`\n",
    "\n",
    "### **Windows** / **Linux (Python version 2)**: Installing Important Python Features:\n",
    "- `pip install jupyter notebook` - .ipynb files\n",
    "- `pip install numpy` - Mathematical operations and arrays\n",
    "- `pip install matplotlib` - Data visualizations\n",
    "- `pip install pandas` - Uploading .csv, .tsv, SQL files into Python as a dataframe and manipulating the data\n",
    "- `pip install openpyxl` - Uploading Excel files into Python\n",
    "- `python -m pip install requests` (Windows) / `pip install requests` (Linux) - Working with HTTP\n",
    "- `pip install html5lib` - Working with HTML data\n",
    "- `pip install beautifulsoup4` - WebScraping\n",
    "- `pip install python-dotenv` - API's\n",
    "\n",
    "### **Mac** / **Linux (Python version 2)**: Installing Important Python Features:\n",
    "- `pip3 install jupyter notebook` - .ipynb files\n",
    "- `pip3 install numpy` - Mathematical operations and arrays\n",
    "- `pip3 install matplotlib` - Data visualizations\n",
    "- `pip3 install pandas` - Uploading .csv, .tsv, SQL files into Python as a dataframe\n",
    "- `pip3 install openpyxl` - Uploading Excel files into Python and manipulating the data\n",
    "- `pip3 install requests` - Working with HTTP\n",
    "- `pip3 install html5lib` - Working with HTML data\n",
    "- `pip3 install beautifulsoup4` - WebScraping\n",
    "- `pip3 install python-dotenv` - API's\n",
    "\n",
    "### Upgrading PIP:\n",
    "- PIP updates provide new feature releases and can improve performance\n",
    "    - **Windows**: `python -m pip install --upgrade pip`\n",
    "    - **Mac**: `pip3 install --upgrade pip`\n",
    "    - **Linux**: `python2 -m pip install --upgrade pip` or `python3 -m pip install --upgrade pip`\n"
   ]
  }
 ],
 "metadata": {
  "language_info": {
   "name": "python"
  },
  "orig_nbformat": 4
 },
 "nbformat": 4,
 "nbformat_minor": 2
}
